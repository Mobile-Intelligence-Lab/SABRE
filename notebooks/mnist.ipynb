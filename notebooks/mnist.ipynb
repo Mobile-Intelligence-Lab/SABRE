{
 "cells": [
  {
   "cell_type": "markdown",
   "metadata": {
    "id": "UI9nCi-qBaOx"
   },
   "source": [
    "# Demo: Robust MNIST Classification\n",
    "<hr />\n",
    "\n",
    "This interactive notebook serves as a guide for training a robust MNIST classification network using the SABRE framework."
   ]
  },
  {
   "cell_type": "markdown",
   "metadata": {
    "id": "PMZroAC4vtLT"
   },
   "source": [
    "### Navigating to the Project Directory"
   ]
  },
  {
   "cell_type": "code",
   "execution_count": 1,
   "metadata": {
    "id": "bNdTAGoSBxj3"
   },
   "outputs": [
    {
     "name": "stdout",
     "output_type": "stream",
     "text": [
      "/mnt/cdtds_cluster_home/s1896334/Research/sabre\n",
      "\n"
     ]
    }
   ],
   "source": [
    "cd .."
   ]
  },
  {
   "cell_type": "markdown",
   "metadata": {
    "id": "0GrzQ3bwBXFa"
   },
   "source": [
    "## Installing dependencies\n",
    "\n",
    "Run the following command to install dependencies from the `requirements.txt` file:"
   ]
  },
  {
   "cell_type": "code",
   "execution_count": 2,
   "metadata": {
    "executionInfo": {
     "elapsed": 15487,
     "status": "ok",
     "timestamp": 1709968108624,
     "user": {
      "displayName": "Alec Frenn",
      "userId": "07541449307829052852"
     },
     "user_tz": 0
    },
    "id": "9ImvB_eBAFyD",
    "outputId": "66beb2f3-ddf2-41dc-c145-071cb8d00509"
   },
   "outputs": [
    {
     "name": "stdout",
     "output_type": "stream",
     "text": [
      "Collecting git+https://github.com/fbcotter/pytorch_wavelets (from -r ./requirements.txt (line 5))\n",
      "  Cloning https://github.com/fbcotter/pytorch_wavelets to /tmp/pip-req-build-fwm8c8zh\n",
      "  Running command git clone --filter=blob:none --quiet https://github.com/fbcotter/pytorch_wavelets /tmp/pip-req-build-fwm8c8zh\n",
      "  Resolved https://github.com/fbcotter/pytorch_wavelets to commit 9a0c507f04f43c5397e384bb6be8340169b2fd9a\n",
      "  Preparing metadata (setup.py) ... \u001b[?25l\u001b[?25hdone\n",
      "Collecting git+https://github.com/BorealisAI/advertorch (from -r ./requirements.txt (line 6))\n",
      "  Cloning https://github.com/BorealisAI/advertorch to /tmp/pip-req-build-g6955rpk\n",
      "  Running command git clone --filter=blob:none --quiet https://github.com/BorealisAI/advertorch /tmp/pip-req-build-g6955rpk\n",
      "  Resolved https://github.com/BorealisAI/advertorch to commit e063e341c87d9a621ae1a8f72c3507d5ea5bd327\n",
      "  Preparing metadata (setup.py) ... \u001b[?25l\u001b[?25hdone\n",
      "Collecting git+https://github.com/fra31/auto-attack (from -r ./requirements.txt (line 7))\n",
      "  Cloning https://github.com/fra31/auto-attack to /tmp/pip-req-build-6y9q1fu0\n",
      "  Running command git clone --filter=blob:none --quiet https://github.com/fra31/auto-attack /tmp/pip-req-build-6y9q1fu0\n",
      "  Resolved https://github.com/fra31/auto-attack to commit a39220048b3c9f2cca9a4d3a54604793c68eca7e\n",
      "  Preparing metadata (setup.py) ... \u001b[?25l\u001b[?25hdone\n",
      "Requirement already satisfied: numpy in /usr/local/lib/python3.10/dist-packages (from -r ./requirements.txt (line 1)) (1.25.2)\n",
      "Requirement already satisfied: torch in /usr/local/lib/python3.10/dist-packages (from -r ./requirements.txt (line 2)) (2.1.0+cu121)\n",
      "Requirement already satisfied: torchvision in /usr/local/lib/python3.10/dist-packages (from -r ./requirements.txt (line 3)) (0.16.0+cu121)\n",
      "Requirement already satisfied: matplotlib in /usr/local/lib/python3.10/dist-packages (from -r ./requirements.txt (line 4)) (3.7.1)\n",
      "Requirement already satisfied: filelock in /usr/local/lib/python3.10/dist-packages (from torch->-r ./requirements.txt (line 2)) (3.13.1)\n",
      "Requirement already satisfied: typing-extensions in /usr/local/lib/python3.10/dist-packages (from torch->-r ./requirements.txt (line 2)) (4.10.0)\n",
      "Requirement already satisfied: sympy in /usr/local/lib/python3.10/dist-packages (from torch->-r ./requirements.txt (line 2)) (1.12)\n",
      "Requirement already satisfied: networkx in /usr/local/lib/python3.10/dist-packages (from torch->-r ./requirements.txt (line 2)) (3.2.1)\n",
      "Requirement already satisfied: jinja2 in /usr/local/lib/python3.10/dist-packages (from torch->-r ./requirements.txt (line 2)) (3.1.3)\n",
      "Requirement already satisfied: fsspec in /usr/local/lib/python3.10/dist-packages (from torch->-r ./requirements.txt (line 2)) (2023.6.0)\n",
      "Requirement already satisfied: triton==2.1.0 in /usr/local/lib/python3.10/dist-packages (from torch->-r ./requirements.txt (line 2)) (2.1.0)\n",
      "Requirement already satisfied: requests in /usr/local/lib/python3.10/dist-packages (from torchvision->-r ./requirements.txt (line 3)) (2.31.0)\n",
      "Requirement already satisfied: pillow!=8.3.*,>=5.3.0 in /usr/local/lib/python3.10/dist-packages (from torchvision->-r ./requirements.txt (line 3)) (9.4.0)\n",
      "Requirement already satisfied: contourpy>=1.0.1 in /usr/local/lib/python3.10/dist-packages (from matplotlib->-r ./requirements.txt (line 4)) (1.2.0)\n",
      "Requirement already satisfied: cycler>=0.10 in /usr/local/lib/python3.10/dist-packages (from matplotlib->-r ./requirements.txt (line 4)) (0.12.1)\n",
      "Requirement already satisfied: fonttools>=4.22.0 in /usr/local/lib/python3.10/dist-packages (from matplotlib->-r ./requirements.txt (line 4)) (4.49.0)\n",
      "Requirement already satisfied: kiwisolver>=1.0.1 in /usr/local/lib/python3.10/dist-packages (from matplotlib->-r ./requirements.txt (line 4)) (1.4.5)\n",
      "Requirement already satisfied: packaging>=20.0 in /usr/local/lib/python3.10/dist-packages (from matplotlib->-r ./requirements.txt (line 4)) (23.2)\n",
      "Requirement already satisfied: pyparsing>=2.3.1 in /usr/local/lib/python3.10/dist-packages (from matplotlib->-r ./requirements.txt (line 4)) (3.1.1)\n",
      "Requirement already satisfied: python-dateutil>=2.7 in /usr/local/lib/python3.10/dist-packages (from matplotlib->-r ./requirements.txt (line 4)) (2.8.2)\n",
      "Requirement already satisfied: six in /usr/local/lib/python3.10/dist-packages (from pytorch-wavelets==1.3.0->-r ./requirements.txt (line 5)) (1.16.0)\n",
      "Requirement already satisfied: MarkupSafe>=2.0 in /usr/local/lib/python3.10/dist-packages (from jinja2->torch->-r ./requirements.txt (line 2)) (2.1.5)\n",
      "Requirement already satisfied: charset-normalizer<4,>=2 in /usr/local/lib/python3.10/dist-packages (from requests->torchvision->-r ./requirements.txt (line 3)) (3.3.2)\n",
      "Requirement already satisfied: idna<4,>=2.5 in /usr/local/lib/python3.10/dist-packages (from requests->torchvision->-r ./requirements.txt (line 3)) (3.6)\n",
      "Requirement already satisfied: urllib3<3,>=1.21.1 in /usr/local/lib/python3.10/dist-packages (from requests->torchvision->-r ./requirements.txt (line 3)) (2.0.7)\n",
      "Requirement already satisfied: certifi>=2017.4.17 in /usr/local/lib/python3.10/dist-packages (from requests->torchvision->-r ./requirements.txt (line 3)) (2024.2.2)\n",
      "Requirement already satisfied: mpmath>=0.19 in /usr/local/lib/python3.10/dist-packages (from sympy->torch->-r ./requirements.txt (line 2)) (1.3.0)\n"
     ]
    }
   ],
   "source": [
    "pip install -r ./requirements.txt"
   ]
  },
  {
   "cell_type": "markdown",
   "metadata": {
    "id": "D2JXFfs3PJz-"
   },
   "source": [
    "Following the installation of dependencies, verify that PyTorch is correctly installed:"
   ]
  },
  {
   "cell_type": "code",
   "execution_count": 3,
   "metadata": {
    "executionInfo": {
     "elapsed": 6019,
     "status": "ok",
     "timestamp": 1709968114634,
     "user": {
      "displayName": "Alec Frenn",
      "userId": "07541449307829052852"
     },
     "user_tz": 0
    },
    "id": "1wwvig0VyY_r",
    "outputId": "685add90-4144-42a5-b86a-3970b0193164"
   },
   "outputs": [
    {
     "name": "stdout",
     "output_type": "stream",
     "text": [
      "Torch version: 2.1.0+cu121\n",
      "GPU count: 1\n"
     ]
    }
   ],
   "source": [
    "import torch\n",
    "print(\"Torch version:\", torch.__version__)\n",
    "print(\"GPU count:\", torch.cuda.device_count())"
   ]
  },
  {
   "cell_type": "markdown",
   "metadata": {
    "id": "_zdmxYuNBMV5"
   },
   "source": [
    "## Running experiments\n"
   ]
  },
  {
   "cell_type": "markdown",
   "metadata": {
    "id": "YuSVJUHdNQ6b"
   },
   "source": [
    "### Setup\n",
    "Setting up the experiments involves preparing the environment by importing necessary libraries, defining key parameters, and loading the dataset."
   ]
  },
  {
   "cell_type": "markdown",
   "metadata": {
    "id": "lM8h9oXJO5Qr"
   },
   "source": [
    "**Imports**\n",
    "\n",
    "To begin, import essential Python libraries and modules that will be used throughout our experiments. This includes standard libraries such as os for file and directory operations, matplotlib.pyplot for plotting, and torch.nn.functional for neural network operations."
   ]
  },
  {
   "cell_type": "code",
   "execution_count": 4,
   "metadata": {
    "executionInfo": {
     "elapsed": 13881,
     "status": "ok",
     "timestamp": 1709968167214,
     "user": {
      "displayName": "Alec Frenn",
      "userId": "07541449307829052852"
     },
     "user_tz": 0
    },
    "id": "wis82lZrO1i3"
   },
   "outputs": [],
   "source": [
    "import os\n",
    "\n",
    "root_path = \"./\"\n",
    "\n",
    "from core.defenses.sabre import SabreWrapper\n",
    "from core.attacks import EoTPGD\n",
    "\n",
    "from datasets.mnist import get_mnist\n",
    "from models.mnist import MNISTModel\n",
    "from models.helpers import load_model\n",
    "from experiments.utils import ceil_dec, sabre_train, evaluate\n",
    "from experiments.setup import create_directories\n",
    "from utils.log import printer\n",
    "\n",
    "import matplotlib.pyplot as plt\n",
    "import torch.nn.functional as F"
   ]
  },
  {
   "cell_type": "markdown",
   "metadata": {
    "id": "GWZ1Kv8x2_TE"
   },
   "source": [
    "This setup encompasses all necessary imports, from the core SABRE defense mechanism and EoT-PGD attack method, to utility functions that streamline the training and evaluation processes."
   ]
  },
  {
   "cell_type": "markdown",
   "metadata": {
    "id": "0LciJoA4PYbY"
   },
   "source": [
    "**Parameters**\n",
    "\n",
    "Next, we define a set of parameters that will guide our experiments. These parameters capture everything from computational resource allocation (GPU or CPU) to the specifics of our model architecture and the adversarial context in which it will be trained and evaluated."
   ]
  },
  {
   "cell_type": "code",
   "execution_count": 5,
   "metadata": {
    "executionInfo": {
     "elapsed": 1369,
     "status": "ok",
     "timestamp": 1709968185601,
     "user": {
      "displayName": "Alec Frenn",
      "userId": "07541449307829052852"
     },
     "user_tz": 0
    },
    "id": "IA-xHFkuO317"
   },
   "outputs": [],
   "source": [
    "device = torch.device('cuda' if torch.cuda.is_available() else 'cpu')\n",
    "\n",
    "model_name = \"SABRE\"\n",
    "epsilon = ceil_dec(80. / 255, 3)\n",
    "batch_size = 32\n",
    "n_variants = 10\n",
    "normalize = False\n",
    "use_rand = True\n",
    "run_auto_attack = False\n",
    "run_transfer_attacks = False\n",
    "\n",
    "dataset_name = \"mnist\"\n",
    "classes = ('zero', 'one', 'two', 'three', 'four', 'five', 'six', 'seven', 'eight', 'nine')\n",
    "\n",
    "n_channels = 1\n",
    "learning_rate = 1e-2\n",
    "plot_images_during_training = True\n",
    "\n",
    "train_params = {\n",
    "    \"eps\": epsilon,\n",
    "    \"n_channels\": n_channels,\n",
    "    \"normalize\": normalize,\n",
    "    \"learning_rate\": learning_rate,\n",
    "    \"plot_images\": plot_images_during_training\n",
    "}\n",
    "\n",
    "models_dir, logs_dir = create_directories(model_name, dataset_name)\n",
    "records_file = os.path.join(logs_dir, \"records.json\")\n",
    "traces_file = os.path.join(logs_dir, \"traces.txt\")\n",
    "results_file = os.path.join(logs_dir, \"results.txt\")\n",
    "model_path = f\"{models_dir}/model.weights.pth\""
   ]
  },
  {
   "cell_type": "markdown",
   "metadata": {
    "id": "lOipfEvb3ZaN"
   },
   "source": [
    "Defining these parameters allows us to streamline the executions across different configuration scenarios, facilitating the comparison of results."
   ]
  },
  {
   "cell_type": "markdown",
   "metadata": {
    "id": "L9P1v92mQNxt"
   },
   "source": [
    "**Loading dataset**\n",
    "\n",
    "We prepare both the training and validation datasets, and return DataLoaders with the specified batch size:"
   ]
  },
  {
   "cell_type": "code",
   "execution_count": 6,
   "metadata": {
    "executionInfo": {
     "elapsed": 1203,
     "status": "ok",
     "timestamp": 1709968217697,
     "user": {
      "displayName": "Alec Frenn",
      "userId": "07541449307829052852"
     },
     "user_tz": 0
    },
    "id": "Ta91aBrYQXbv",
    "outputId": "4fcfde0d-e75c-4240-ddad-7119047a4b4f"
   },
   "outputs": [],
   "source": [
    "data_root = os.path.join(root_path, \"datasets\")\n",
    "train_data_loader, test_data_loader = get_mnist(batch_size=batch_size, data_root=data_root,\n",
    "                                                train=True, val=True, return_loader=True)"
   ]
  },
  {
   "cell_type": "markdown",
   "metadata": {
    "id": "DUIuPKjv4hK2"
   },
   "source": [
    "With our setup complete, we are now ready to proceed to the core of our experiments: training and evaluating our models under various conditions to assess the effectiveness of the SABRE framework in enhancing model robustness against adversarial attacks."
   ]
  },
  {
   "cell_type": "markdown",
   "metadata": {
    "id": "DfxnfzlIbc7T"
   },
   "source": [
    "### Model definition\n",
    "To create robust models, we define our classifier architecture and provide it to SABRE, with its configuration parameters defined earlier:"
   ]
  },
  {
   "cell_type": "code",
   "execution_count": 7,
   "metadata": {
    "executionInfo": {
     "elapsed": 231,
     "status": "ok",
     "timestamp": 1709968250588,
     "user": {
      "displayName": "Alec Frenn",
      "userId": "07541449307829052852"
     },
     "user_tz": 0
    },
    "id": "2wK4-lDcQ7vI"
   },
   "outputs": [],
   "source": [
    "base_model = MNISTModel()\n",
    "model = SabreWrapper(eps=epsilon, use_rand=use_rand, n_variants=n_variants, base_model=base_model)"
   ]
  },
  {
   "cell_type": "markdown",
   "metadata": {
    "id": "6tWUb8xLNZN6"
   },
   "source": [
    "### Training\n",
    "During this phase, our goal is to develop a robust model capable of accurately classifying images from the CIFAR-10 dataset, even in the presence of adversarial attacks. Using our robust training function, we train the models over multiple epochs while meticulously logging progress, allowing us to monitor the model's evolving robustness and adjust parameters as needed to optimize performance."
   ]
  },
  {
   "cell_type": "code",
   "execution_count": 8,
   "metadata": {
    "id": "fNTRwXThRWHr",
    "outputId": "7ea91828-a0c0-4b8d-d42c-73473d80c7d1"
   },
   "outputs": [
    {
     "name": "stdout",
     "output_type": "stream",
     "text": [
      "Model already exists: /mnt/cdtds_cluster_home/s1896334/Research/sabre/artifacts/saved_models/SABRE/mnist/model.weights.pth\n",
      "\n"
     ]
    }
   ],
   "source": [
    "if os.path.exists(model_path):\n",
    "    printer(f'Model already exists: {model_path}\\n', traces_file)\n",
    "else:\n",
    "    printer(f'Training model...\\n', traces_file)\n",
    "\n",
    "    model = sabre_train(model, train_data_loader, n_epochs=100, learning_rate=train_params[\"learning_rate\"],\n",
    "                        save_path=model_path, log_path=traces_file, params=train_params)"
   ]
  },
  {
   "cell_type": "markdown",
   "metadata": {
    "id": "4Aa97TwjNbGR"
   },
   "source": [
    "### Evaluation\n",
    "After training, the model undergoes a rigorous evaluation phase where it is exposed to various adversarial attack methods. In this instance, we assess the model's performance and robustness against the EoT-PGD attack — a potent variant of the Projected Gradient Descent attack enhanced with Expectation over Transformation (EoT)."
   ]
  },
  {
   "cell_type": "markdown",
   "metadata": {},
   "source": [
    "**Loading the trained model**"
   ]
  },
  {
   "cell_type": "code",
   "execution_count": 9,
   "metadata": {},
   "outputs": [
    {
     "name": "stdout",
     "output_type": "stream",
     "text": [
      "Loading model weights from: /mnt/cdtds_cluster_home/s1896334/Research/sabre/artifacts/saved_models/SABRE/mnist/model.weights.pth\n"
     ]
    }
   ],
   "source": [
    "model = load_model(model, model_path=model_path, log_path=traces_file)"
   ]
  },
  {
   "cell_type": "markdown",
   "metadata": {},
   "source": [
    "**Evaluating the benign accuracy**"
   ]
  },
  {
   "cell_type": "code",
   "execution_count": 10,
   "metadata": {},
   "outputs": [
    {
     "name": "stdout",
     "output_type": "stream",
     "text": [
      "Evaluating model... [No Attack]\n",
      "\n",
      "[Batch: 31 / 313] Accuracy: 99.194 (984/992)\n",
      "[Batch: 62 / 313] Accuracy: 99.042 (1965/1984)\n",
      "[Batch: 93 / 313] Accuracy: 98.891 (2943/2976)\n",
      "[Batch: 124 / 313] Accuracy: 98.916 (3925/3968)\n",
      "[Batch: 155 / 313] Accuracy: 98.931 (4907/4960)\n",
      "[Batch: 186 / 313] Accuracy: 99.093 (5898/5952)\n",
      "[Batch: 217 / 313] Accuracy: 99.078 (6880/6944)\n",
      "[Batch: 248 / 313] Accuracy: 99.194 (7872/7936)\n",
      "[Batch: 279 / 313] Accuracy: 99.261 (8862/8928)\n",
      "[Batch: 310 / 313] Accuracy: 99.274 (9848/9920)\n",
      "Finished Evaluation\n",
      "Accuracy: 99.280 (9928/10000)\n"
     ]
    },
    {
     "data": {
      "text/plain": [
       "(9928, 10000)"
      ]
     },
     "execution_count": 10,
     "metadata": {},
     "output_type": "execute_result"
    }
   ],
   "source": [
    "printer(f'Evaluating model... [No Attack]\\n', traces_file)\n",
    "\n",
    "evaluate(model, attack=None, data_loader=test_data_loader, log_path=traces_file)"
   ]
  },
  {
   "cell_type": "markdown",
   "metadata": {},
   "source": [
    "**Evaluating the robustness against the adversarial attack**"
   ]
  },
  {
   "cell_type": "code",
   "execution_count": 11,
   "metadata": {
    "id": "JzT6C7SbPkPH"
   },
   "outputs": [
    {
     "name": "stdout",
     "output_type": "stream",
     "text": [
      "Evaluating model... [Attack=EoT-PGD 7 steps]\n",
      "\n",
      "[Batch: 31 / 313] Accuracy: 99.899 (991/992)\n",
      "[Batch: 62 / 313] Accuracy: 99.849 (1981/1984)\n",
      "[Batch: 93 / 313] Accuracy: 99.798 (2970/2976)\n",
      "[Batch: 124 / 313] Accuracy: 99.773 (3959/3968)\n",
      "[Batch: 155 / 313] Accuracy: 99.738 (4947/4960)\n",
      "[Batch: 186 / 313] Accuracy: 99.782 (5939/5952)\n",
      "[Batch: 217 / 313] Accuracy: 99.784 (6929/6944)\n",
      "[Batch: 248 / 313] Accuracy: 99.811 (7921/7936)\n",
      "[Batch: 279 / 313] Accuracy: 99.832 (8913/8928)\n",
      "[Batch: 310 / 313] Accuracy: 99.839 (9904/9920)\n",
      "Finished Evaluation\n",
      "Accuracy: 99.840 (9984/10000)\n"
     ]
    },
    {
     "data": {
      "text/plain": [
       "(9984, 10000)"
      ]
     },
     "execution_count": 11,
     "metadata": {},
     "output_type": "execute_result"
    }
   ],
   "source": [
    "attack = EoTPGD(eps=80./255, alpha=0.05, steps=7, eot_steps=10)\n",
    "attack.set_model(model)\n",
    "\n",
    "printer(f'Evaluating model... [Attack=EoT-PGD 7 steps]\\n', traces_file)\n",
    "\n",
    "evaluate(model, attack, test_data_loader, log_path=traces_file)"
   ]
  },
  {
   "cell_type": "markdown",
   "metadata": {
    "id": "vWeaI-EsV4K6"
   },
   "source": [
    "### Visualization\n",
    "To visually assess the robustness of our model, we compare the original images with their adversarial counterparts and the model's reconstructions that are fed to the classifiers."
   ]
  },
  {
   "cell_type": "code",
   "execution_count": 12,
   "metadata": {
    "id": "7_vceI5bV2Sm"
   },
   "outputs": [
    {
     "name": "stdout",
     "output_type": "stream",
     "text": [
      "Robust Accuracy: 100.00\n",
      "Plotting results for 5 images...\n"
     ]
    },
    {
     "data": {
      "image/png": "[encoded data removed]",
      "text/plain": [
       "<Figure size 800x400 with 4 Axes>"
      ]
     },
     "metadata": {},
     "output_type": "display_data"
    },
    {
     "data": {
      "image/png": "[encoded data removed]",
      "text/plain": [
       "<Figure size 800x400 with 4 Axes>"
      ]
     },
     "metadata": {},
     "output_type": "display_data"
    },
    {
     "data": {
      "image/png": "[encoded data removed]",
      "text/plain": [
       "<Figure size 800x400 with 4 Axes>"
      ]
     },
     "metadata": {},
     "output_type": "display_data"
    },
    {
     "data": {
      "image/png": "[encoded data removed]",
      "text/plain": [
       "<Figure size 800x400 with 4 Axes>"
      ]
     },
     "metadata": {},
     "output_type": "display_data"
    },
    {
     "data": {
      "image/png": "[encoded data removed]",
      "text/plain": [
       "<Figure size 800x400 with 4 Axes>"
      ]
     },
     "metadata": {},
     "output_type": "display_data"
    }
   ],
   "source": [
    "images, labels = next(iter(test_data_loader))\n",
    "images, labels = images.to(device), labels.to(device)\n",
    "\n",
    "with torch.enable_grad():\n",
    "    adversarial_images = attack(images, labels).float()\n",
    "\n",
    "reconstructed_benign = model.preprocessing(images)\n",
    "reconstructed_adversarial = model.preprocessing(adversarial_images)\n",
    "\n",
    "outputs_robust_adversarial = model.classify(reconstructed_adversarial)\n",
    "_, predicted_robust_adversarial = outputs_robust_adversarial.max(1)\n",
    "\n",
    "total = labels.size(0)\n",
    "correct = predicted_robust_adversarial.eq(labels).sum().item()\n",
    "\n",
    "print(f\"Robust Accuracy: {100 * correct / total:.2f}\")\n",
    "\n",
    "print(\"Plotting results for 5 images...\")\n",
    "for i in range(5):\n",
    "    plt.figure(figsize=(8, 4))\n",
    "\n",
    "    plt.subplot(1, 4, 1)\n",
    "    plt.imshow(images[i].cpu().detach().squeeze().numpy())\n",
    "    plt.title('Original')\n",
    "    plt.axis('off')\n",
    "\n",
    "    plt.subplot(1, 4, 2)\n",
    "    plt.imshow(adversarial_images[i].cpu().detach().squeeze().numpy())\n",
    "    plt.title('Adversarial')\n",
    "    plt.axis('off')\n",
    "\n",
    "    plt.subplot(1, 4, 3)\n",
    "    plt.imshow(reconstructed_benign[i].cpu().detach().squeeze().numpy())\n",
    "    plt.title('Reconstructed\\nBenign')\n",
    "    plt.axis('off')\n",
    "\n",
    "    plt.subplot(1, 4, 4)\n",
    "    plt.imshow(reconstructed_adversarial[i].cpu().detach().squeeze().numpy())\n",
    "    plt.title('Reconstructed\\nAdversarial')\n",
    "    plt.axis('off')\n",
    "\n",
    "    plt.show()"
   ]
  },
  {
   "cell_type": "markdown",
   "metadata": {},
   "source": [
    "### AutoAttack Evaluation\n",
    "Validation of the robust model's performance against AutoAttack."
   ]
  },
  {
   "cell_type": "markdown",
   "metadata": {},
   "source": [
    "**Importing AutoAttack**"
   ]
  },
  {
   "cell_type": "code",
   "execution_count": 13,
   "metadata": {},
   "outputs": [],
   "source": [
    "from autoattack import AutoAttack"
   ]
  },
  {
   "cell_type": "markdown",
   "metadata": {},
   "source": [
    "**Preparing the dataset and model**"
   ]
  },
  {
   "cell_type": "code",
   "execution_count": 14,
   "metadata": {},
   "outputs": [
    {
     "data": {
      "text/plain": [
       "SabreWrapper(\n",
       "  (core): Sabre(\n",
       "    (fwt): DWTForward()\n",
       "    (iwt): DWTInverse()\n",
       "  )\n",
       "  (base_model): MNISTModel(\n",
       "    (classifier): LeNetModel(\n",
       "      (conv1): Conv2d(1, 6, kernel_size=(5, 5), stride=(1, 1))\n",
       "      (conv2): Conv2d(6, 16, kernel_size=(5, 5), stride=(1, 1))\n",
       "      (fc1): Linear(in_features=256, out_features=128, bias=True)\n",
       "      (fc2): Linear(in_features=128, out_features=84, bias=True)\n",
       "      (fc3): Linear(in_features=84, out_features=10, bias=True)\n",
       "    )\n",
       "    (denoise): DenoisingCNN(\n",
       "      (layers): Sequential(\n",
       "        (0): Sequential(\n",
       "          (0): Conv2d(11, 16, kernel_size=(3, 3), stride=(1, 1), padding=(1, 1))\n",
       "          (1): ReLU(inplace=True)\n",
       "        )\n",
       "        (1): Sequential(\n",
       "          (0): Conv2d(16, 16, kernel_size=(3, 3), stride=(1, 1), padding=(1, 1))\n",
       "          (1): BatchNorm2d(16, eps=0.0001, momentum=0.9, affine=True, track_running_stats=True)\n",
       "          (2): ReLU(inplace=True)\n",
       "        )\n",
       "        (2): Conv2d(16, 1, kernel_size=(3, 3), stride=(1, 1), padding=(1, 1))\n",
       "        (3): Sigmoid()\n",
       "      )\n",
       "      (pool): AvgPool2d(kernel_size=2, stride=2, padding=0)\n",
       "    )\n",
       "  )\n",
       "  (transform): BPDAWrapper()\n",
       ")"
      ]
     },
     "execution_count": 14,
     "metadata": {},
     "output_type": "execute_result"
    }
   ],
   "source": [
    "test_data_loader_all = get_mnist(batch_size=len(test_data_loader) * batch_size, data_root=data_root,\n",
    "                                 train=False, val=True, return_loader=True)\n",
    "x_all, y_all = next(iter(test_data_loader_all))\n",
    "\n",
    "model.to(device)\n",
    "model.eval()"
   ]
  },
  {
   "cell_type": "markdown",
   "metadata": {},
   "source": [
    "**Evaluating the robustness against the adversarial attack**"
   ]
  },
  {
   "cell_type": "markdown",
   "metadata": {},
   "source": [
    "* AutoAttack with epsilon = 80/255"
   ]
  },
  {
   "cell_type": "code",
   "execution_count": 15,
   "metadata": {},
   "outputs": [
    {
     "name": "stdout",
     "output_type": "stream",
     "text": [
      "Evaluating model... [Attack=AutoAttack, eps=80/255]\n",
      "\n",
      "setting parameters for rand version\n",
      "using rand version including apgd-ce, apgd-dlr.\n",
      "initial accuracy: 99.33%\n",
      "apgd-ce - 1/39 - 0 out of 256 successfully perturbed\n",
      "apgd-ce - 2/39 - 1 out of 256 successfully perturbed\n",
      "apgd-ce - 3/39 - 1 out of 256 successfully perturbed\n",
      "apgd-ce - 4/39 - 1 out of 256 successfully perturbed\n",
      "apgd-ce - 5/39 - 1 out of 256 successfully perturbed\n",
      "apgd-ce - 6/39 - 2 out of 256 successfully perturbed\n",
      "apgd-ce - 7/39 - 1 out of 256 successfully perturbed\n",
      "apgd-ce - 8/39 - 1 out of 256 successfully perturbed\n",
      "apgd-ce - 9/39 - 1 out of 256 successfully perturbed\n",
      "apgd-ce - 10/39 - 2 out of 256 successfully perturbed\n",
      "apgd-ce - 11/39 - 1 out of 256 successfully perturbed\n",
      "apgd-ce - 12/39 - 1 out of 256 successfully perturbed\n",
      "apgd-ce - 13/39 - 1 out of 256 successfully perturbed\n",
      "apgd-ce - 14/39 - 0 out of 256 successfully perturbed\n",
      "apgd-ce - 15/39 - 2 out of 256 successfully perturbed\n",
      "apgd-ce - 16/39 - 1 out of 256 successfully perturbed\n",
      "apgd-ce - 17/39 - 2 out of 256 successfully perturbed\n",
      "apgd-ce - 18/39 - 2 out of 256 successfully perturbed\n",
      "apgd-ce - 19/39 - 1 out of 256 successfully perturbed\n",
      "apgd-ce - 20/39 - 1 out of 256 successfully perturbed\n",
      "apgd-ce - 21/39 - 0 out of 256 successfully perturbed\n",
      "apgd-ce - 22/39 - 1 out of 256 successfully perturbed\n",
      "apgd-ce - 23/39 - 0 out of 256 successfully perturbed\n",
      "apgd-ce - 24/39 - 2 out of 256 successfully perturbed\n",
      "apgd-ce - 25/39 - 0 out of 256 successfully perturbed\n",
      "apgd-ce - 26/39 - 2 out of 256 successfully perturbed\n",
      "apgd-ce - 27/39 - 0 out of 256 successfully perturbed\n",
      "apgd-ce - 28/39 - 0 out of 256 successfully perturbed\n",
      "apgd-ce - 29/39 - 1 out of 256 successfully perturbed\n",
      "apgd-ce - 30/39 - 0 out of 256 successfully perturbed\n",
      "apgd-ce - 31/39 - 1 out of 256 successfully perturbed\n",
      "apgd-ce - 32/39 - 1 out of 256 successfully perturbed\n",
      "apgd-ce - 33/39 - 0 out of 256 successfully perturbed\n",
      "apgd-ce - 34/39 - 0 out of 256 successfully perturbed\n",
      "apgd-ce - 35/39 - 3 out of 256 successfully perturbed\n",
      "apgd-ce - 36/39 - 0 out of 256 successfully perturbed\n",
      "apgd-ce - 37/39 - 0 out of 256 successfully perturbed\n",
      "apgd-ce - 38/39 - 3 out of 256 successfully perturbed\n",
      "apgd-ce - 39/39 - 1 out of 188 successfully perturbed\n",
      "robust accuracy after APGD-CE: 98.78% (total time 4895.7 s)\n",
      "apgd-dlr - 1/39 - 5 out of 256 successfully perturbed\n",
      "apgd-dlr - 2/39 - 6 out of 256 successfully perturbed\n",
      "apgd-dlr - 3/39 - 9 out of 256 successfully perturbed\n",
      "apgd-dlr - 4/39 - 4 out of 256 successfully perturbed\n",
      "apgd-dlr - 5/39 - 6 out of 256 successfully perturbed\n",
      "apgd-dlr - 6/39 - 8 out of 256 successfully perturbed\n",
      "apgd-dlr - 7/39 - 2 out of 256 successfully perturbed\n",
      "apgd-dlr - 8/39 - 8 out of 256 successfully perturbed\n",
      "apgd-dlr - 9/39 - 6 out of 256 successfully perturbed\n",
      "apgd-dlr - 10/39 - 7 out of 256 successfully perturbed\n",
      "apgd-dlr - 11/39 - 3 out of 256 successfully perturbed\n",
      "apgd-dlr - 12/39 - 6 out of 256 successfully perturbed\n",
      "apgd-dlr - 13/39 - 4 out of 256 successfully perturbed\n",
      "apgd-dlr - 14/39 - 6 out of 256 successfully perturbed\n",
      "apgd-dlr - 15/39 - 10 out of 256 successfully perturbed\n",
      "apgd-dlr - 16/39 - 7 out of 256 successfully perturbed\n",
      "apgd-dlr - 17/39 - 6 out of 256 successfully perturbed\n",
      "apgd-dlr - 18/39 - 7 out of 256 successfully perturbed\n",
      "apgd-dlr - 19/39 - 4 out of 256 successfully perturbed\n",
      "apgd-dlr - 20/39 - 2 out of 256 successfully perturbed\n",
      "apgd-dlr - 21/39 - 1 out of 256 successfully perturbed\n",
      "apgd-dlr - 22/39 - 1 out of 256 successfully perturbed\n",
      "apgd-dlr - 23/39 - 3 out of 256 successfully perturbed\n",
      "apgd-dlr - 24/39 - 3 out of 256 successfully perturbed\n",
      "apgd-dlr - 25/39 - 0 out of 256 successfully perturbed\n",
      "apgd-dlr - 26/39 - 9 out of 256 successfully perturbed\n",
      "apgd-dlr - 27/39 - 0 out of 256 successfully perturbed\n",
      "apgd-dlr - 28/39 - 0 out of 256 successfully perturbed\n",
      "apgd-dlr - 29/39 - 1 out of 256 successfully perturbed\n",
      "apgd-dlr - 30/39 - 0 out of 256 successfully perturbed\n",
      "apgd-dlr - 31/39 - 0 out of 256 successfully perturbed\n",
      "apgd-dlr - 32/39 - 1 out of 256 successfully perturbed\n",
      "apgd-dlr - 33/39 - 2 out of 256 successfully perturbed\n",
      "apgd-dlr - 34/39 - 0 out of 256 successfully perturbed\n",
      "apgd-dlr - 35/39 - 0 out of 256 successfully perturbed\n",
      "apgd-dlr - 36/39 - 2 out of 256 successfully perturbed\n",
      "apgd-dlr - 37/39 - 0 out of 256 successfully perturbed\n",
      "apgd-dlr - 38/39 - 3 out of 256 successfully perturbed\n",
      "apgd-dlr - 39/39 - 2 out of 150 successfully perturbed\n",
      "robust accuracy after APGD-DLR: 97.34% (total time 9786.8 s)\n",
      "max Linf perturbation: 0.31373, nan in tensor: 0, max: 1.00000, min: 0.00000\n",
      "robust accuracy: 97.34%\n"
     ]
    }
   ],
   "source": [
    "print(\"Evaluating model... [Attack=AutoAttack, eps=80/255]\\n\")\n",
    "adversary = AutoAttack(model, norm='Linf', eps=80./255, version='rand', verbose=True,\n",
    "                       log_path=traces_file, device=device)\n",
    "_ = adversary.run_standard_evaluation(x_all, y_all, bs=256)"
   ]
  },
  {
   "cell_type": "markdown",
   "metadata": {},
   "source": [
    "* AutoAttack with epsilon = 150/255"
   ]
  },
  {
   "cell_type": "code",
   "execution_count": 16,
   "metadata": {},
   "outputs": [
    {
     "name": "stdout",
     "output_type": "stream",
     "text": [
      "Evaluating model... [Attack=AutoAttack, eps=150/255]\n",
      "\n",
      "setting parameters for rand version\n",
      "using rand version including apgd-ce, apgd-dlr.\n",
      "initial accuracy: 99.67%\n",
      "apgd-ce - 1/39 - 28 out of 256 successfully perturbed\n",
      "apgd-ce - 2/39 - 35 out of 256 successfully perturbed\n",
      "apgd-ce - 3/39 - 32 out of 256 successfully perturbed\n",
      "apgd-ce - 4/39 - 39 out of 256 successfully perturbed\n",
      "apgd-ce - 5/39 - 37 out of 256 successfully perturbed\n",
      "apgd-ce - 6/39 - 42 out of 256 successfully perturbed\n",
      "apgd-ce - 7/39 - 40 out of 256 successfully perturbed\n",
      "apgd-ce - 8/39 - 32 out of 256 successfully perturbed\n",
      "apgd-ce - 9/39 - 30 out of 256 successfully perturbed\n",
      "apgd-ce - 10/39 - 34 out of 256 successfully perturbed\n",
      "apgd-ce - 11/39 - 43 out of 256 successfully perturbed\n",
      "apgd-ce - 12/39 - 41 out of 256 successfully perturbed\n",
      "apgd-ce - 13/39 - 37 out of 256 successfully perturbed\n",
      "apgd-ce - 14/39 - 26 out of 256 successfully perturbed\n",
      "apgd-ce - 15/39 - 32 out of 256 successfully perturbed\n",
      "apgd-ce - 16/39 - 27 out of 256 successfully perturbed\n",
      "apgd-ce - 17/39 - 26 out of 256 successfully perturbed\n",
      "apgd-ce - 18/39 - 39 out of 256 successfully perturbed\n",
      "apgd-ce - 19/39 - 31 out of 256 successfully perturbed\n",
      "apgd-ce - 20/39 - 20 out of 256 successfully perturbed\n",
      "apgd-ce - 21/39 - 16 out of 256 successfully perturbed\n",
      "apgd-ce - 22/39 - 28 out of 256 successfully perturbed\n",
      "apgd-ce - 23/39 - 18 out of 256 successfully perturbed\n",
      "apgd-ce - 24/39 - 19 out of 256 successfully perturbed\n",
      "apgd-ce - 25/39 - 14 out of 256 successfully perturbed\n",
      "apgd-ce - 26/39 - 40 out of 256 successfully perturbed\n",
      "apgd-ce - 27/39 - 19 out of 256 successfully perturbed\n",
      "apgd-ce - 28/39 - 16 out of 256 successfully perturbed\n",
      "apgd-ce - 29/39 - 27 out of 256 successfully perturbed\n",
      "apgd-ce - 30/39 - 31 out of 256 successfully perturbed\n",
      "apgd-ce - 31/39 - 16 out of 256 successfully perturbed\n",
      "apgd-ce - 32/39 - 17 out of 256 successfully perturbed\n",
      "apgd-ce - 33/39 - 18 out of 256 successfully perturbed\n",
      "apgd-ce - 34/39 - 12 out of 256 successfully perturbed\n",
      "apgd-ce - 35/39 - 15 out of 256 successfully perturbed\n",
      "apgd-ce - 36/39 - 18 out of 256 successfully perturbed\n",
      "apgd-ce - 37/39 - 12 out of 256 successfully perturbed\n",
      "apgd-ce - 38/39 - 39 out of 256 successfully perturbed\n",
      "apgd-ce - 39/39 - 33 out of 189 successfully perturbed\n",
      "robust accuracy after APGD-CE: 88.38% (total time 4732.0 s)\n",
      "apgd-dlr - 1/35 - 104 out of 256 successfully perturbed\n",
      "apgd-dlr - 2/35 - 114 out of 256 successfully perturbed\n",
      "apgd-dlr - 3/35 - 78 out of 256 successfully perturbed\n",
      "apgd-dlr - 4/35 - 112 out of 256 successfully perturbed\n",
      "apgd-dlr - 5/35 - 113 out of 256 successfully perturbed\n",
      "apgd-dlr - 6/35 - 101 out of 256 successfully perturbed\n",
      "apgd-dlr - 7/35 - 116 out of 256 successfully perturbed\n",
      "apgd-dlr - 8/35 - 121 out of 256 successfully perturbed\n",
      "apgd-dlr - 9/35 - 104 out of 256 successfully perturbed\n",
      "apgd-dlr - 10/35 - 93 out of 256 successfully perturbed\n",
      "apgd-dlr - 11/35 - 116 out of 256 successfully perturbed\n",
      "apgd-dlr - 12/35 - 113 out of 256 successfully perturbed\n",
      "apgd-dlr - 13/35 - 116 out of 256 successfully perturbed\n",
      "apgd-dlr - 14/35 - 105 out of 256 successfully perturbed\n",
      "apgd-dlr - 15/35 - 111 out of 256 successfully perturbed\n",
      "apgd-dlr - 16/35 - 94 out of 256 successfully perturbed\n",
      "apgd-dlr - 17/35 - 96 out of 256 successfully perturbed\n",
      "apgd-dlr - 18/35 - 90 out of 256 successfully perturbed\n",
      "apgd-dlr - 19/35 - 91 out of 256 successfully perturbed\n",
      "apgd-dlr - 20/35 - 89 out of 256 successfully perturbed\n",
      "apgd-dlr - 21/35 - 94 out of 256 successfully perturbed\n",
      "apgd-dlr - 22/35 - 58 out of 256 successfully perturbed\n",
      "apgd-dlr - 23/35 - 104 out of 256 successfully perturbed\n",
      "apgd-dlr - 24/35 - 74 out of 256 successfully perturbed\n",
      "apgd-dlr - 25/35 - 94 out of 256 successfully perturbed\n",
      "apgd-dlr - 26/35 - 107 out of 256 successfully perturbed\n",
      "apgd-dlr - 27/35 - 85 out of 256 successfully perturbed\n",
      "apgd-dlr - 28/35 - 81 out of 256 successfully perturbed\n",
      "apgd-dlr - 29/35 - 95 out of 256 successfully perturbed\n",
      "apgd-dlr - 30/35 - 70 out of 256 successfully perturbed\n",
      "apgd-dlr - 31/35 - 64 out of 256 successfully perturbed\n",
      "apgd-dlr - 32/35 - 73 out of 256 successfully perturbed\n",
      "apgd-dlr - 33/35 - 93 out of 256 successfully perturbed\n",
      "apgd-dlr - 34/35 - 121 out of 256 successfully perturbed\n",
      "apgd-dlr - 35/35 - 51 out of 134 successfully perturbed\n",
      "robust accuracy after APGD-DLR: 54.97% (total time 8963.5 s)\n",
      "max Linf perturbation: 0.58824, nan in tensor: 0, max: 1.00000, min: 0.00000\n",
      "robust accuracy: 54.97%\n"
     ]
    }
   ],
   "source": [
    "print(\"Evaluating model... [Attack=AutoAttack, eps=150/255]\\n\")\n",
    "adversary = AutoAttack(model, norm='Linf', eps=150./255, version='rand', verbose=True,\n",
    "                       log_path=traces_file, device=device)\n",
    "_ = adversary.run_standard_evaluation(x_all, y_all, bs=256)"
   ]
  },
  {
   "cell_type": "markdown",
   "metadata": {
    "id": "N6wovfVZxMaV"
   },
   "source": [
    "## Conclusion\n",
    "This notebook, through the processes of training, evaluation, and visualization of MNIST within the context of adversarial robustness, effectively demonstrates the effectiveness of the SABRE framework and provides a high-level overview of of how it can be used to enhance the resilience of machine learning models against adversarial attacks."
   ]
  }
 ],
 "metadata": {
  "accelerator": "GPU",
  "kernelspec": {
   "display_name": "Python 3 (ipykernel)",
   "language": "python",
   "name": "python3"
  },
  "language_info": {
   "codemirror_mode": {
    "name": "ipython",
    "version": 3
   },
   "file_extension": ".py",
   "mimetype": "text/x-python",
   "name": "python",
   "nbconvert_exporter": "python",
   "pygments_lexer": "ipython3",
   "version": "3.8.8"
  }
 },
 "nbformat": 4,
 "nbformat_minor": 1
}
