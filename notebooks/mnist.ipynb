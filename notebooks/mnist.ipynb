{
 "cells": [
  {
   "cell_type": "markdown",
   "metadata": {
    "id": "UI9nCi-qBaOx"
   },
   "source": [
    "# Demo: Robust MNIST Classification\n",
    "<hr />\n",
    "\n",
    "This interactive notebook serves as a guide for training a robust MNIST classification network using the SABRE framework."
   ]
  },
  {
   "cell_type": "markdown",
   "metadata": {
    "id": "PMZroAC4vtLT"
   },
   "source": [
    "### Navigating to the Project Directory"
   ]
  },
  {
   "cell_type": "code",
   "execution_count": null,
   "metadata": {
    "id": "bNdTAGoSBxj3"
   },
   "outputs": [],
   "source": [
    "cd .."
   ]
  },
  {
   "cell_type": "markdown",
   "metadata": {
    "id": "0GrzQ3bwBXFa"
   },
   "source": [
    "## Installing dependencies\n",
    "\n",
    "Run the following command to install dependencies from the `requirements.txt` file:"
   ]
  },
  {
   "cell_type": "code",
   "execution_count": null,
   "metadata": {
    "colab": {
     "base_uri": "https://localhost:8080/"
    },
    "executionInfo": {
     "elapsed": 15487,
     "status": "ok",
     "timestamp": 1709968108624,
     "user": {
      "displayName": "Alec Frenn",
      "userId": "07541449307829052852"
     },
     "user_tz": 0
    },
    "id": "9ImvB_eBAFyD",
    "outputId": "66beb2f3-ddf2-41dc-c145-071cb8d00509"
   },
   "outputs": [],
   "source": [
    "pip install -r ./requirements.txt"
   ]
  },
  {
   "cell_type": "markdown",
   "metadata": {
    "id": "D2JXFfs3PJz-"
   },
   "source": [
    "Following the installation of dependencies, verify that PyTorch is correctly installed:"
   ]
  },
  {
   "cell_type": "code",
   "execution_count": null,
   "metadata": {
    "colab": {
     "base_uri": "https://localhost:8080/"
    },
    "executionInfo": {
     "elapsed": 6019,
     "status": "ok",
     "timestamp": 1709968114634,
     "user": {
      "displayName": "Alec Frenn",
      "userId": "07541449307829052852"
     },
     "user_tz": 0
    },
    "id": "1wwvig0VyY_r",
    "outputId": "685add90-4144-42a5-b86a-3970b0193164"
   },
   "outputs": [],
   "source": [
    "import torch\n",
    "print(\"Torch version:\", torch.__version__)\n",
    "print(\"GPU count:\", torch.cuda.device_count())"
   ]
  },
  {
   "cell_type": "markdown",
   "metadata": {
    "id": "_zdmxYuNBMV5"
   },
   "source": [
    "## Running experiments\n"
   ]
  },
  {
   "cell_type": "markdown",
   "metadata": {
    "id": "YuSVJUHdNQ6b"
   },
   "source": [
    "### Setup\n",
    "Setting up the experiments involves preparing the environment by importing necessary libraries, defining key parameters, and loading the dataset."
   ]
  },
  {
   "cell_type": "markdown",
   "metadata": {
    "id": "lM8h9oXJO5Qr"
   },
   "source": [
    "**Imports**\n",
    "\n",
    "To begin, import essential Python libraries and modules that will be used throughout our experiments. This includes standard libraries such as os for file and directory operations, matplotlib.pyplot for plotting, and torch.nn.functional for neural network operations."
   ]
  },
  {
   "cell_type": "code",
   "execution_count": null,
   "metadata": {
    "executionInfo": {
     "elapsed": 13881,
     "status": "ok",
     "timestamp": 1709968167214,
     "user": {
      "displayName": "Alec Frenn",
      "userId": "07541449307829052852"
     },
     "user_tz": 0
    },
    "id": "wis82lZrO1i3"
   },
   "outputs": [],
   "source": [
    "import os\n",
    "\n",
    "root_path = \"./\"\n",
    "\n",
    "from core.defenses.sabre import SabreWrapper\n",
    "from core.attacks import EoTPGD\n",
    "\n",
    "from datasets.mnist import get_mnist\n",
    "from models.mnist import MNISTModel\n",
    "from models.helpers import load_model\n",
    "from experiments.utils import ceil_dec, sabre_train, evaluate\n",
    "from experiments.setup import create_directories\n",
    "from utils.log import printer\n",
    "\n",
    "import matplotlib.pyplot as plt\n",
    "import torch.nn.functional as F"
   ]
  },
  {
   "cell_type": "markdown",
   "metadata": {
    "id": "GWZ1Kv8x2_TE"
   },
   "source": [
    "This setup encompasses all necessary imports, from the core SABRE defense mechanism and EoT-PGD attack method, to utility functions that streamline the training and evaluation processes."
   ]
  },
  {
   "cell_type": "markdown",
   "metadata": {
    "id": "0LciJoA4PYbY"
   },
   "source": [
    "**Parameters**\n",
    "\n",
    "Next, we define a set of parameters that will guide our experiments. These parameters capture everything from computational resource allocation (GPU or CPU) to the specifics of our model architecture and the adversarial context in which it will be trained and evaluated."
   ]
  },
  {
   "cell_type": "code",
   "execution_count": null,
   "metadata": {
    "executionInfo": {
     "elapsed": 1369,
     "status": "ok",
     "timestamp": 1709968185601,
     "user": {
      "displayName": "Alec Frenn",
      "userId": "07541449307829052852"
     },
     "user_tz": 0
    },
    "id": "IA-xHFkuO317"
   },
   "outputs": [],
   "source": [
    "device = torch.device('cuda' if torch.cuda.is_available() else 'cpu')\n",
    "\n",
    "model_name = \"SABRE\"\n",
    "epsilon = ceil_dec(80. / 255, 3)\n",
    "batch_size = 32\n",
    "n_variants = 10\n",
    "normalize = False\n",
    "use_rand = True\n",
    "run_auto_attack = False\n",
    "run_transfer_attacks = False\n",
    "\n",
    "dataset_name = \"mnist\"\n",
    "classes = ('zero', 'one', 'two', 'three', 'four', 'five', 'six', 'seven', 'eight', 'nine')\n",
    "\n",
    "n_channels = 1\n",
    "learning_rate = 1e-2\n",
    "plot_images_during_training = True\n",
    "\n",
    "train_params = {\n",
    "    \"eps\": epsilon,\n",
    "    \"n_channels\": n_channels,\n",
    "    \"normalize\": normalize,\n",
    "    \"learning_rate\": learning_rate,\n",
    "    \"plot_images\": plot_images_during_training\n",
    "}\n",
    "\n",
    "models_dir, logs_dir = create_directories(model_name, dataset_name)\n",
    "records_file = os.path.join(logs_dir, \"records.json\")\n",
    "traces_file = os.path.join(logs_dir, \"traces.txt\")\n",
    "results_file = os.path.join(logs_dir, \"results.txt\")\n",
    "model_path = f\"{models_dir}/model.weights.pth\""
   ]
  },
  {
   "cell_type": "markdown",
   "metadata": {
    "id": "lOipfEvb3ZaN"
   },
   "source": [
    "Defining these parameters allows us to streamline the executions across different configuration scenarios, facilitating the comparison of results."
   ]
  },
  {
   "cell_type": "markdown",
   "metadata": {
    "id": "L9P1v92mQNxt"
   },
   "source": [
    "**Loading dataset**\n",
    "\n",
    "We prepare both the training and validation datasets, and return DataLoaders with the specified batch size:"
   ]
  },
  {
   "cell_type": "code",
   "execution_count": null,
   "metadata": {
    "colab": {
     "base_uri": "https://localhost:8080/"
    },
    "executionInfo": {
     "elapsed": 1203,
     "status": "ok",
     "timestamp": 1709968217697,
     "user": {
      "displayName": "Alec Frenn",
      "userId": "07541449307829052852"
     },
     "user_tz": 0
    },
    "id": "Ta91aBrYQXbv",
    "outputId": "4fcfde0d-e75c-4240-ddad-7119047a4b4f"
   },
   "outputs": [],
   "source": [
    "data_root = os.path.join(root_path, \"datasets\")\n",
    "train_data_loader, test_data_loader = get_mnist(batch_size=batch_size, data_root=data_root,\n",
    "                                                train=True, val=True, return_loader=True)"
   ]
  },
  {
   "cell_type": "markdown",
   "metadata": {
    "id": "DUIuPKjv4hK2"
   },
   "source": [
    "With our setup complete, we are now ready to proceed to the core of our experiments: training and evaluating our models under various conditions to assess the effectiveness of the SABRE framework in enhancing model robustness against adversarial attacks."
   ]
  },
  {
   "cell_type": "markdown",
   "metadata": {
    "id": "DfxnfzlIbc7T"
   },
   "source": [
    "### Model definition\n",
    "To create robust models, we define our classifier architecture and provide it to SABRE, with its configuration parameters defined earlier:"
   ]
  },
  {
   "cell_type": "code",
   "execution_count": null,
   "metadata": {
    "executionInfo": {
     "elapsed": 231,
     "status": "ok",
     "timestamp": 1709968250588,
     "user": {
      "displayName": "Alec Frenn",
      "userId": "07541449307829052852"
     },
     "user_tz": 0
    },
    "id": "2wK4-lDcQ7vI"
   },
   "outputs": [],
   "source": [
    "base_model = MNISTModel()\n",
    "model = SabreWrapper(eps=epsilon, use_rand=use_rand, n_variants=n_variants, base_model=base_model)"
   ]
  },
  {
   "cell_type": "markdown",
   "metadata": {
    "id": "6tWUb8xLNZN6"
   },
   "source": [
    "### Training\n",
    "During this phase, our goal is to develop a robust model capable of accurately classifying images from the CIFAR-10 dataset, even in the presence of adversarial attacks. Using our robust training function, we train the models over multiple epochs while meticulously logging progress, allowing us to monitor the model's evolving robustness and adjust parameters as needed to optimize performance."
   ]
  },
  {
   "cell_type": "code",
   "execution_count": null,
   "metadata": {
    "colab": {
     "base_uri": "https://localhost:8080/",
     "height": 932
    },
    "id": "fNTRwXThRWHr",
    "outputId": "7ea91828-a0c0-4b8d-d42c-73473d80c7d1"
   },
   "outputs": [],
   "source": [
    "if os.path.exists(model_path):\n",
    "    printer(f'Model already exists: {model_path}\\n', traces_file)\n",
    "else:\n",
    "    printer(f'Training model...\\n', traces_file)\n",
    "\n",
    "    model = sabre_train(model, train_data_loader, n_epochs=100, learning_rate=train_params[\"learning_rate\"],\n",
    "                        save_path=model_path, log_path=traces_file, params=train_params)"
   ]
  },
  {
   "cell_type": "markdown",
   "metadata": {
    "id": "4Aa97TwjNbGR"
   },
   "source": [
    "### Evaluation\n",
    "After training, the model undergoes a rigorous evaluation phase where it's exposed to various adversarial attack methods. In this instance, we assess the model's performance and robustness against the EoTPGD attack — a potent variant of the Projected Gradient Descent attack enhanced with Expectation over Transformation (EoT)."
   ]
  },
  {
   "cell_type": "code",
   "execution_count": null,
   "metadata": {
    "id": "JzT6C7SbPkPH"
   },
   "outputs": [],
   "source": [
    "model = load_model(model, model_path=model_path, log_path=traces_file)\n",
    "\n",
    "attack = EoTPGD(eps=80./255, alpha=0.05, steps=7, eot_steps=10)\n",
    "attack.set_model(model)\n",
    "\n",
    "printer(f'Evaluating model... [Attack=EoT-PGD 7 steps]\\n', traces_file)\n",
    "\n",
    "evaluate(model, attack, test_data_loader, log_path=traces_file)"
   ]
  },
  {
   "cell_type": "markdown",
   "metadata": {
    "id": "vWeaI-EsV4K6"
   },
   "source": [
    "### Visualization\n",
    "To visually assess the robustness of our model, we compare the original images with their adversarial counterparts and the model's reconstructions that are fed to the classifiers."
   ]
  },
  {
   "cell_type": "code",
   "execution_count": null,
   "metadata": {
    "id": "7_vceI5bV2Sm"
   },
   "outputs": [],
   "source": [
    "images, labels = next(iter(test_data_loader))\n",
    "images, labels = images.to(device), labels.to(device)\n",
    "\n",
    "with torch.enable_grad():\n",
    "    adversarial_images = attack(images, labels).float()\n",
    "\n",
    "reconstructed_benign = model.preprocessing(images)\n",
    "reconstructed_adversarial = model.preprocessing(adversarial_images)\n",
    "\n",
    "outputs_benign = model.classify(images)\n",
    "_, predicted_benign = outputs_benign.max(1)\n",
    "\n",
    "outputs_robust_benign = model.classify(reconstructed_benign)\n",
    "_, predicted_robust_benign = outputs_robust_benign.max(1)\n",
    "\n",
    "outputs_adversarial = model.classify(adversarial_images)\n",
    "_, predicted_adversarial = outputs_adversarial.max(1)\n",
    "\n",
    "outputs_robust_adversarial = model.classify(reconstructed_adversarial)\n",
    "_, predicted_robust_adversarial = outputs_robust_adversarial.max(1)\n",
    "\n",
    "total = labels.size(0)\n",
    "correct = predicted_robust_adversarial.eq(labels).sum().item()\n",
    "\n",
    "printer(f\"Robust Accuracy: {100 * correct / total:.2f}\")\n",
    "\n",
    "print(\"Plotting results for 5 images...\")\n",
    "for i in range(5):\n",
    "    plt.figure(figsize=(8, 4))\n",
    "\n",
    "    plt.subplot(1, 4, 1)\n",
    "    plt.imshow(images[i].cpu().detach().squeeze().numpy())\n",
    "    plt.title('Original')\n",
    "    plt.axis('off')\n",
    "\n",
    "    plt.subplot(1, 4, 2)\n",
    "    plt.imshow(adversarial_images[i].cpu().detach().squeeze().numpy())\n",
    "    plt.title('Adversarial')\n",
    "    plt.axis('off')\n",
    "\n",
    "    plt.subplot(1, 4, 3)\n",
    "    plt.imshow(reconstructed_benign[i].cpu().detach().squeeze().numpy())\n",
    "    plt.title('Reconstructed\\nBenign')\n",
    "    plt.axis('off')\n",
    "\n",
    "    plt.subplot(1, 4, 4)\n",
    "    plt.imshow(reconstructed_adversarial[i].cpu().detach().squeeze().numpy())\n",
    "    plt.title('Reconstructed\\nAdversarial')\n",
    "    plt.axis('off')\n",
    "\n",
    "    plt.show()"
   ]
  },
  {
   "cell_type": "markdown",
   "metadata": {
    "id": "N6wovfVZxMaV"
   },
   "source": [
    "## Conclusion\n",
    "This notebook, through the processes of training, evaluation, and visualization of MNIST within the context of adversarial robustness, effectively demonstrates the effectiveness of the SABRE framework and provides a high-level overview of of how it can be used to enhance the resilience of machine learning models against adversarial attacks."
   ]
  }
 ],
 "metadata": {
  "accelerator": "GPU",
  "colab": {
   "gpuType": "T4",
   "machine_shape": "hm",
   "provenance": [
    {
     "file_id": "1qeWWzPKblmL63kl7TC0VIwzts-wc7dcP",
     "timestamp": 1709967501574
    }
   ]
  },
  "kernelspec": {
   "display_name": "Python 3 (ipykernel)",
   "language": "python",
   "name": "python3"
  },
  "language_info": {
   "codemirror_mode": {
    "name": "ipython",
    "version": 3
   },
   "file_extension": ".py",
   "mimetype": "text/x-python",
   "name": "python",
   "nbconvert_exporter": "python",
   "pygments_lexer": "ipython3",
   "version": "3.8.8"
  }
 },
 "nbformat": 4,
 "nbformat_minor": 1
}
